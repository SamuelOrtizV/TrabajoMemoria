{
 "cells": [
  {
   "cell_type": "markdown",
   "metadata": {},
   "source": [
    "### CARGAR DEPENDENCIAS"
   ]
  },
  {
   "cell_type": "code",
   "execution_count": 2,
   "metadata": {},
   "outputs": [],
   "source": [
    "import torch\n",
    "import torch.nn as nn\n",
    "import torch.optim as optim\n",
    "import numpy as np\n",
    "from model import *\n",
    "import os\n",
    "import torchvision.transforms.functional as F\n",
    "from inputs.xbox_controller_emulator import XboxControllerEmulator\n",
    "from UDP_listener import udp_listener\n",
    "from ScreenRecorder import *\n",
    "from torchvision import transforms, models\n",
    "import time\n",
    "from torch.utils.tensorboard import SummaryWriter\n",
    "import pandas as pd\n",
    "import random"
   ]
  },
  {
   "cell_type": "markdown",
   "metadata": {},
   "source": [
    "### DEFINICION DE HIPERPÁRAMETROS"
   ]
  },
  {
   "cell_type": "code",
   "execution_count": 10,
   "metadata": {},
   "outputs": [
    {
     "name": "stdout",
     "output_type": "stream",
     "text": [
      "CNNminitest-CNN_RNN-efficientnet_b0-5-240-135-2-256-epoch\n"
     ]
    }
   ],
   "source": [
    "# Parámetros de captura de pantalla\n",
    "screen_size = (1920, 1080)\n",
    "full_screen = True\n",
    "fps = 30 # HAY QUE MEDIR LA CAPACIDAD Y AJUSTAR ESTE VALOR\n",
    "\n",
    "# Hiperparametros del modelo\n",
    "name = \"CNNminitest\"\n",
    "architecture = \"CNN_RNN\"    # \"CNN\", \"CNN_RNN\", \"CNN_LSTM_STATE\"\n",
    "output_size = 2             # Giro y aceleración\n",
    "\n",
    "# Hiperparametros de la CNN\n",
    "cnn_name = \"efficientnet_b0\"#\"efficientnet_v2_s\", \"efficientnet_b0\", \"efficientnet_b1\", \"efficientnet_b2\", \"efficientnet_b3\"\n",
    "input_size = (240, 135)     # 16:9 ratio\n",
    "dropout = 0 # 0.5\n",
    "bias = True                 # Si se desea usar bias en las capas convolucionales\n",
    "cnn_train = True            # Si se desea entrenar la parte CNN\n",
    "\n",
    "# Hiperparametros de la RNN/LSTM\n",
    "hidden_size = 256           # Número de neuronas en la capa oculta de la RNN o LSTM 512 usado por Iker\n",
    "num_layers = 1              # Número de capas en la RNN o LSTM\n",
    "seq_len = 1                 # Número de imágenes a considerar en la secuencia\n",
    "\n",
    "# Hiperparametros de SAC\n",
    "learning_rate = 3e-4   # Tasa de aprendizaje para el optimizador\n",
    "discount_factor = 0.99 # Factor de descuento para las recompensas futuras\n",
    "alpha = 0.2            # Parámetro de entropía para SAC (controla la exploración)\n",
    "tau = 0.005            # Parámetro de actualización suave de las redes objetivo\n",
    "batch_size = 64        # Tamaño de batch para actualizar el agente\n",
    "\n",
    "# Parámetros de recompensas\n",
    "reward_speed_weight = 1.0        # Peso de la velocidad en la recompensa\n",
    "reward_track_position_weight = 1.0  # Peso de la posición en la pista\n",
    "reward_laps_weight = 100.0         # Peso de las vueltas completadas DEBE SER ALTO\n",
    "penalty_tyres_out = -1.0        # Penalización por salirse de la pista\n",
    "penalty_car_damage = -2.0       # Penalización por dañar el auto\n",
    "\n",
    "# Otras configuraciones\n",
    "max_steps_per_episode = 1000   # Máximo número de pasos por episodio\n",
    "num_episodes = 500             # Número de episodios de entrenamiento\n",
    "\n",
    "save_dir = f\"./trained_models/{name}\"\n",
    "\n",
    "# Definir el nombre del modelo a guardar\n",
    "model_name = f\"{name}-{architecture}-{cnn_name}-{seq_len}-{input_size[0]}-{input_size[1]}-{output_size}-{hidden_size}\"\n",
    "print(f\"{model_name}\")\n",
    "\n",
    "os.makedirs(save_dir, exist_ok=True) # Crear directorio de guardado si no existe\n",
    "\n",
    "# Definir el escritor de TensorBoard para visualización\n",
    "writer = SummaryWriter(log_dir=\"./runs/\" + model_name) "
   ]
  },
  {
   "cell_type": "markdown",
   "metadata": {},
   "source": [
    "### FUNCIONES AUXILIARES"
   ]
  },
  {
   "cell_type": "code",
   "execution_count": null,
   "metadata": {},
   "outputs": [],
   "source": [
    "# Función para calcular la recompensa en cada paso\n",
    "def calculate_reward(variables):\n",
    "    \"\"\"Calcula la recompensa basándose en las variables del entorno\"\"\"\n",
    "\n",
    "    speed = variables[\"speed\"]\n",
    "    track_position = variables[\"track_position\"]\n",
    "    laps = variables[\"laps\"]\n",
    "    tyres_out = variables[\"tyres_out\"]\n",
    "    car_damage = variables[\"car_damage\"]\n",
    "    \n",
    "    # Recompensa por velocidad y posición en la pista\n",
    "    reward = reward_speed_weight * speed + reward_track_position_weight * track_position + reward_laps_weight * laps\n",
    "    \n",
    "    # PULIR ESTA PARTE, HAY QUE HACER QUE LA RECOMPENSA POR VELOCIDAD SOLO SEA PARA QUE LA VELOCIDAD NO SEA 0, \n",
    "    # NO RECOMPENSAR POR VELOCIDAD ALTA YA QUE PUEDE PERDER EL CONTROL\n",
    "    # PONER TIMER A LAS RUEDAS FUERA DE LA PISTA, PENALIZAR POCO SI SOLO ES 1 O 2 PERO PENALIZAR MUCHO SI ES MAS, \n",
    "    # TAL VEZ HACERLO DE FORMA EXPONENCIAL AL TIEMPO Y A LA CANTIDAD DE RUEDAS FUERA\n",
    "\n",
    "    # Penalización por salirse de la pista y por daño\n",
    "    if tyres_out > 0:\n",
    "        reward += penalty_tyres_out\n",
    "    if car_damage > 0:\n",
    "        reward += penalty_car_damage\n",
    "\n",
    "    return reward\n",
    "\n",
    "# Función para reiniciar el entorno (por ejemplo, cuando el auto se sale de la pista)\n",
    "def reset_environment():\n",
    "    \"\"\"Reinicia la simulación (puedes personalizar este método según el juego)\"\"\"\n",
    "    # Lógica para reiniciar el entorno, como reiniciar la carrera o posición\n",
    "\n",
    "    # PONER UN TIMER PARA QUE NO CONTINUE INMEDIATAMENTE HASTA QUE EL AUTO ESTE EN UNA POSICION LISTA PARA INICIAR\n",
    "    pass\n",
    "\n",
    "# Definir las transformaciones\n",
    "transform = transforms.Compose([\n",
    "    transforms.Resize((input_size)),  # Cambia el tamaño de las imágenes a (height x width)\n",
    "    transforms.ToTensor(),         # Convierte las imágenes a tensores\n",
    "    transforms.Normalize(mean=[0.485, 0.456, 0.406], std=[0.229, 0.224, 0.225])  # Normalizar la imagen\n",
    "])"
   ]
  },
  {
   "cell_type": "markdown",
   "metadata": {},
   "source": [
    "### INICIAR MODELO Y CARGAR DATOS"
   ]
  },
  {
   "cell_type": "code",
   "execution_count": 11,
   "metadata": {},
   "outputs": [
    {
     "name": "stdout",
     "output_type": "stream",
     "text": [
      "Usando CUDA\n"
     ]
    }
   ],
   "source": [
    "# Inicializar el modelo\n",
    "\n",
    "if architecture == \"CNN\":\n",
    "    model = CNN(cnn_name, output_size, (3, *input_size), dropout, bias, cnn_train)\n",
    "    seq_len = 1\n",
    "elif architecture == \"CNN_RNN\":\n",
    "    model = CNN_RNN(cnn_name, hidden_size, output_size, (3, *input_size), num_layers, dropout, bias)\n",
    "elif architecture == \"CNN_LSTM_STATE\":\n",
    "    model = CNN_LSTM_STATE(cnn_name, hidden_size, output_size, (3, *input_size), num_layers, dropout, bias)\n",
    "    hidden_state = model.init_hidden(batch_size)\n",
    "\n",
    "if full_screen:\n",
    "    region = {'left': 0, 'top': 0, 'width': screen_size[0], 'height': screen_size[1]}\n",
    "else:\n",
    "    region = {'left': 0, 'top': 40, 'width': screen_size[0], 'height': screen_size[1]}\n",
    "\n",
    "# Cargar el modelo\n",
    "device = torch.device(\"cuda\" if torch.cuda.is_available() else \"cpu\")\n",
    "model.to(device)\n",
    "print(\"Usando CUDA\" if torch.cuda.is_available() else \"USANDO CPU\")\n",
    "\n",
    "\n",
    "# Optimización y función de pérdida\n",
    "optimizer = optim.Adam(model.parameters(), lr=learning_rate)\n",
    "\n",
    "criterion = nn.MSELoss()"
   ]
  },
  {
   "cell_type": "markdown",
   "metadata": {},
   "source": [
    "### ENTRENAMIENTO"
   ]
  },
  {
   "cell_type": "code",
   "execution_count": 12,
   "metadata": {},
   "outputs": [
    {
     "name": "stdout",
     "output_type": "stream",
     "text": [
      "Iniciando entrenamiento...\n",
      "Trabajando en Epoch 1. Progreso: 100.00%\n",
      "Validando modelo...\n",
      "Validando en Epoch 1. Progreso: 100.00%\n",
      "Epoch [1/30], Train Loss: 0.1852, Val Loss: 0.1454, Epoch Time: 00:01:04, Total Time: 00:01:04\n",
      "Trabajando en Epoch 2. Progreso: 100.00%\n",
      "Validando modelo...\n",
      "Validando en Epoch 2. Progreso: 100.00%\n",
      "Epoch [2/30], Train Loss: 0.0749, Val Loss: 0.1432, Epoch Time: 00:01:05, Total Time: 00:02:09\n",
      "Trabajando en Epoch 3. Progreso: 100.00%\n",
      "Validando modelo...\n",
      "Validando en Epoch 3. Progreso: 100.00%\n",
      "Epoch [3/30], Train Loss: 0.0592, Val Loss: 0.1219, Epoch Time: 00:01:05, Total Time: 00:03:14\n",
      "Trabajando en Epoch 4. Progreso: 6.45%\n",
      "Entrenamiento interrumpido.\n",
      "Entrenamiento terminado.\n"
     ]
    }
   ],
   "source": [
    "print(\"Iniciando entrenamiento...\")\n",
    "\n",
    "finished = False\n",
    "episodio = 0\n",
    "sequence_buffer = []  # Buffer para almacenar las imágenes de la secuencia en caso de usar RNN o LSTM\n",
    "\n",
    "start_time = time.time()    # Tiempo de inicio del entrenamiento\n",
    "\n",
    "# Iniciar el entrenamiento\n",
    "\n",
    "try:\n",
    "    while not finished: #Ciclos de episodios\n",
    "        print(f\"Episodio {episodio}\", end=\"\\r\")\n",
    "        episodio += 1\n",
    "\n",
    "        # Reiniciar el entorno\n",
    "        reset_environment()\n",
    "        episode_start_time = time.time()\n",
    "        total_reward = 0\n",
    "        running = True\n",
    "        model.train()\n",
    "        \n",
    "        while running: #Ciclos de pasos\n",
    "            step_start_time = time.time()\n",
    "            # Capturar la pantalla   \n",
    "            img = capture_screen(region)           \n",
    "            preprocessed_img = Image.fromarray(img.astype(np.uint8)).convert('RGB')# Convertir la imagen preprocesada a un objeto PIL y aplicar las transformaciones\n",
    "            preprocessed_img = transform(preprocessed_img)\n",
    "\n",
    "            # Telemetria del juego\n",
    "            variables = udp_listener()\n",
    "\n",
    "            # Añadir la imagen preprocesada al buffer de secuencia\n",
    "            sequence_buffer.append(preprocessed_img)\n",
    "        \n",
    "            # Mantener solo las últimas imágenes en el buffer\n",
    "            if len(sequence_buffer) > seq_len:\n",
    "                sequence_buffer.pop(0)\n",
    "\n",
    "            # Verificar si tenemos suficientes imágenes para una secuencia completa\n",
    "            if len(sequence_buffer) == seq_len:\n",
    "                # Convertir la secuencia de imágenes en un tensor\n",
    "                sequence_tensor = torch.stack(sequence_buffer).unsqueeze(0).to(device)\n",
    "\n",
    "                # Habilitar precisión mixta y para usar la GPU para entrenar\n",
    "                with torch.amp.autocast(device_type='cuda', dtype=torch.float16):\n",
    "                    if architecture == \"CNN\":\n",
    "                        output = model(sequence_tensor)\n",
    "                    elif architecture == \"CNN_RNN\":\n",
    "                        outputs = model(sequence_tensor)\n",
    "                    else:\n",
    "                        print(\"Arquitectura no soportada\")\n",
    "                        #parar la ejecucion de todo el programa\n",
    "                        raise SystemExit\n",
    "\n",
    "                    # Calcular la recompensa en base a las variables\n",
    "                    reward = calculate_reward(variables)\n",
    "\n",
    "                    # 5. Aquí irían las decisiones del agente (acciones) usando SAC, por ejemplo:\n",
    "                    # - Elegir acción basada en las características extraídas por la CNN\n",
    "                    # - Actualizar las redes del actor y crítico según las fórmulas de SAC\n",
    "                    # - Enviar comandos al juego, como dirección y aceleración\n",
    "\n",
    "                    # 6. Aplicar retropropagación para optimizar la red\n",
    "                    loss = ...  # Aquí debes definir cómo calculas la pérdida para SAC\n",
    "            optimizer.zero_grad()\n",
    "            loss.backward()\n",
    "            optimizer.step()\n",
    "\n",
    "            total_reward += reward\n",
    "\n",
    "            # 7. Condición para reiniciar el episodio (por ejemplo, si el auto se sale de la pista)\n",
    "            if variables[\"tyres_out\"] == 4 or variables[\"car_damage\"] > 0:\n",
    "                print(\"El auto se ha salido de la pista o ha sufrido daño, reiniciando episodio...\")\n",
    "                break  # Termina el episodio si el auto está fuera de la pista o dañado\n",
    "\n",
    "            # EN ESTA PARTE PONER UN SLEEP PARA HACER QUE LOS STEPS ESTEN ESPACIADOS DE FORMA CONSTANTE\n",
    "            # MEDIR EL TIEMPO QUE PUEDE DEMORAR CADA STEP\n",
    "\n",
    "\n",
    "except KeyboardInterrupt:\n",
    "    print(\"\\nEntrenamiento interrumpido.\")\n",
    "\n",
    "print(\"Entrenamiento terminado.\")\n",
    "\n",
    "writer.close()  # Cerrar el escritor de TensorBoard\n",
    "\n",
    "torch.cuda.empty_cache()\n",
    "torch.cuda.ipc_collect()"
   ]
  }
 ],
 "metadata": {
  "kernelspec": {
   "display_name": "Python 3",
   "language": "python",
   "name": "python3"
  },
  "language_info": {
   "codemirror_mode": {
    "name": "ipython",
    "version": 3
   },
   "file_extension": ".py",
   "mimetype": "text/x-python",
   "name": "python",
   "nbconvert_exporter": "python",
   "pygments_lexer": "ipython3",
   "version": "3.12.7"
  }
 },
 "nbformat": 4,
 "nbformat_minor": 2
}
